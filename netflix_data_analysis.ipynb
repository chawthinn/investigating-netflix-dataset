{
 "cells": [
  {
   "cell_type": "markdown",
   "metadata": {},
   "source": [
    "### Read the dataset"
   ]
  },
  {
   "cell_type": "code",
   "execution_count": 2,
   "metadata": {},
   "outputs": [],
   "source": [
    "# Importing pandas and matplotlib\n",
    "import pandas as pd\n",
    "import matplotlib.pyplot as plt\n",
    "\n",
    "# Read in the Netflix CSV as a DataFrame\n",
    "netflix_df = pd.read_csv(\"netflix_data.csv\")"
   ]
  },
  {
   "cell_type": "code",
   "execution_count": 3,
   "metadata": {},
   "outputs": [
    {
     "name": "stdout",
     "output_type": "stream",
     "text": [
      "  show_id     type  title           director  \\\n",
      "0      s2    Movie   7:19  Jorge Michel Grau   \n",
      "1      s3    Movie  23:59       Gilbert Chan   \n",
      "2      s4    Movie      9        Shane Acker   \n",
      "3      s5    Movie     21     Robert Luketic   \n",
      "4      s6  TV Show     46        Serdar Akar   \n",
      "\n",
      "                                                cast        country  \\\n",
      "0  Demián Bichir, Héctor Bonilla, Oscar Serrano, ...         Mexico   \n",
      "1  Tedd Chan, Stella Chung, Henley Hii, Lawrence ...      Singapore   \n",
      "2  Elijah Wood, John C. Reilly, Jennifer Connelly...  United States   \n",
      "3  Jim Sturgess, Kevin Spacey, Kate Bosworth, Aar...  United States   \n",
      "4  Erdal Beşikçioğlu, Yasemin Allen, Melis Birkan...         Turkey   \n",
      "\n",
      "          date_added  release_year  duration  \\\n",
      "0  December 23, 2016          2016        93   \n",
      "1  December 20, 2018          2011        78   \n",
      "2  November 16, 2017          2009        80   \n",
      "3    January 1, 2020          2008       123   \n",
      "4       July 1, 2017          2016         1   \n",
      "\n",
      "                                         description             genre  \n",
      "0  After a devastating earthquake hits Mexico Cit...            Dramas  \n",
      "1  When an army recruit is found dead, his fellow...     Horror Movies  \n",
      "2  In a postapocalyptic world, rag-doll robots hi...            Action  \n",
      "3  A brilliant group of students become card-coun...            Dramas  \n",
      "4  A genetics professor experiments with a treatm...  International TV  \n",
      "<class 'pandas.core.frame.DataFrame'>\n",
      "RangeIndex: 4812 entries, 0 to 4811\n",
      "Data columns (total 11 columns):\n",
      " #   Column        Non-Null Count  Dtype \n",
      "---  ------        --------------  ----- \n",
      " 0   show_id       4812 non-null   object\n",
      " 1   type          4812 non-null   object\n",
      " 2   title         4812 non-null   object\n",
      " 3   director      4812 non-null   object\n",
      " 4   cast          4812 non-null   object\n",
      " 5   country       4812 non-null   object\n",
      " 6   date_added    4812 non-null   object\n",
      " 7   release_year  4812 non-null   int64 \n",
      " 8   duration      4812 non-null   int64 \n",
      " 9   description   4812 non-null   object\n",
      " 10  genre         4812 non-null   object\n",
      "dtypes: int64(2), object(9)\n",
      "memory usage: 413.7+ KB\n",
      "None\n",
      "       release_year     duration\n",
      "count   4812.000000  4812.000000\n",
      "mean    2012.711554    99.566708\n",
      "std        9.517978    30.889305\n",
      "min     1942.000000     1.000000\n",
      "25%     2011.000000    88.000000\n",
      "50%     2016.000000    99.000000\n",
      "75%     2018.000000   116.000000\n",
      "max     2021.000000   253.000000\n"
     ]
    }
   ],
   "source": [
    "# Print the dataset\n",
    "print(netflix_df.head())\n",
    "print(netflix_df.info())\n",
    "print(netflix_df.describe())"
   ]
  },
  {
   "cell_type": "markdown",
   "metadata": {},
   "source": [
    "### Filter the data for movies released in the 1990s"
   ]
  },
  {
   "cell_type": "code",
   "execution_count": 4,
   "metadata": {},
   "outputs": [
    {
     "name": "stdout",
     "output_type": "stream",
     "text": [
      "['Movie' 'TV Show']\n"
     ]
    }
   ],
   "source": [
    "# Print out unique types\n",
    "print(netflix_df['type'].unique())"
   ]
  },
  {
   "cell_type": "code",
   "execution_count": 7,
   "metadata": {},
   "outputs": [
    {
     "name": "stdout",
     "output_type": "stream",
     "text": [
      "    show_id   type                            title            director  \\\n",
      "6        s8  Movie                              187      Kevin Reynolds   \n",
      "118    s167  Movie                A Dangerous Woman  Stephen Gyllenhaal   \n",
      "145    s211  Movie           A Night at the Roxbury    John Fortenberry   \n",
      "167    s239  Movie  A Thin Line Between Love & Hate     Martin Lawrence   \n",
      "194    s274  Movie                     Aashik Awara         Umesh Mehra   \n",
      "\n",
      "                                                  cast        country  \\\n",
      "6    Samuel L. Jackson, John Heard, Kelly Rowan, Cl...  United States   \n",
      "118  Debra Winger, Barbara Hershey, Gabriel Byrne, ...  United States   \n",
      "145  Will Ferrell, Chris Kattan, Dan Hedaya, Molly ...  United States   \n",
      "167  Martin Lawrence, Lynn Whitfield, Regina King, ...  United States   \n",
      "194  Saif Ali Khan, Mamta Kulkarni, Mohnish Bahl, S...          India   \n",
      "\n",
      "           date_added  release_year  duration  \\\n",
      "6    November 1, 2019          1997       119   \n",
      "118     April 1, 2018          1993       101   \n",
      "145  December 1, 2019          1998        82   \n",
      "167  December 1, 2020          1996       108   \n",
      "194      June 1, 2017          1993       154   \n",
      "\n",
      "                                           description     genre  \n",
      "6    After one of his high school students attacks ...    Dramas  \n",
      "118  At the center of this engrossing melodrama is ...    Dramas  \n",
      "145  After a run-in with Richard Grieco, dimwits Do...  Comedies  \n",
      "167  When a philandering club promoter sets out to ...  Comedies  \n",
      "194  Raised by a kindly thief, orphaned Jimmy goes ...    Dramas  \n"
     ]
    }
   ],
   "source": [
    "# Subest the dataframe by type 'Movie' and release year in the 1990s\n",
    "movies_90s = netflix_df[(netflix_df['type'] == 'Movie') & \n",
    "                        (netflix_df['release_year'] >= 1990) & \n",
    "                        (netflix_df['release_year'] < 2000)]\n",
    "\n",
    "# Print the result\n",
    "print(movies_90s.head())"
   ]
  },
  {
   "cell_type": "markdown",
   "metadata": {},
   "source": [
    "### Find the most frequent movie duration"
   ]
  },
  {
   "cell_type": "code",
   "execution_count": 8,
   "metadata": {},
   "outputs": [
    {
     "data": {
      "image/png": "[encoded data removed]",
      "text/plain": [
       "<Figure size 1000x600 with 1 Axes>"
      ]
     },
     "metadata": {},
     "output_type": "display_data"
    }
   ],
   "source": [
    "import seaborn as sns\n",
    "\n",
    "# Set the figure size\n",
    "plt.figure(figsize=(10, 6))\n",
    "\n",
    "# Plot the distribution of movie durations\n",
    "plt.hist(movies_90s[\"duration\"])\n",
    "plt.title('Distribution of Movie Durations in the 1990s')\n",
    "plt.xlabel('Duration (minutes)')\n",
    "plt.ylabel('Number of Movies')\n",
    "plt.show()"
   ]
  },
  {
   "cell_type": "code",
   "execution_count": null,
   "metadata": {},
   "outputs": [],
   "source": [
    "# Find the most frequent movie duration from the plot\n",
    "duration = 100"
   ]
  },
  {
   "cell_type": "markdown",
   "metadata": {},
   "source": [
    "### Count the number of short action movies from the 1990s"
   ]
  },
  {
   "cell_type": "code",
   "execution_count": 10,
   "metadata": {},
   "outputs": [
    {
     "name": "stdout",
     "output_type": "stream",
     "text": [
      "['Dramas' 'Comedies' 'Children' 'Action' 'Documentaries' 'Classic Movies'\n",
      " 'Stand-Up' 'Cult Movies' 'Thrillers' 'Horror Movies']\n"
     ]
    }
   ],
   "source": [
    "# Print unique genres of 90s movies\n",
    "print(movies_90s['genre'].unique())"
   ]
  },
  {
   "cell_type": "code",
   "execution_count": 17,
   "metadata": {},
   "outputs": [
    {
     "name": "stdout",
     "output_type": "stream",
     "text": [
      "    show_id   type                                  title           director  \\\n",
      "352    s508  Movie                        Andaz Apna Apna  Rajkumar Santoshi   \n",
      "431    s628  Movie  Austin Powers: The Spy Who Shagged Me          Jay Roach   \n",
      "468    s688  Movie                               Bad Boys        Michael Bay   \n",
      "515    s757  Movie                                Barsaat  Rajkumar Santoshi   \n",
      "675   s1003  Movie                            Blue Streak       Les Mayfield   \n",
      "\n",
      "                                                  cast        country  \\\n",
      "352  Aamir Khan, Salman Khan, Raveena Tandon, Karis...          India   \n",
      "431  Mike Myers, Heather Graham, Michael York, Robe...  United States   \n",
      "468  Will Smith, Martin Lawrence, Téa Leoni, Tchéky...  United States   \n",
      "515  Twinkle Khanna, Bobby Deol, Danny Denzongpa, R...          India   \n",
      "675  Martin Lawrence, Luke Wilson, Peter Greene, Da...        Germany   \n",
      "\n",
      "           date_added  release_year  duration  \\\n",
      "352      May 11, 2020          1994       160   \n",
      "431  December 1, 2019          1999        95   \n",
      "468   October 1, 2019          1995       119   \n",
      "515     April 1, 2018          1995       166   \n",
      "675   January 1, 2021          1999        94   \n",
      "\n",
      "                                           description   genre  \n",
      "352  Broke and with no concrete plans for the futur...  Action  \n",
      "431  When diabolical genius Dr. Evil travels back i...  Action  \n",
      "468  In this fast-paced actioner, two Miami narcoti...  Action  \n",
      "515  A naïve young man and a rich city girl fall in...  Action  \n",
      "675  A jewel thief returns to his hiding place afte...  Action  \n"
     ]
    }
   ],
   "source": [
    "# Subset by Genre 'Action'\n",
    "action_movies_90s = movies_90s[movies_90s['genre'] == 'Action']\n",
    "\n",
    "# Print the top rows\n",
    "print(action_movies_90s.head())"
   ]
  },
  {
   "cell_type": "code",
   "execution_count": 14,
   "metadata": {},
   "outputs": [
    {
     "name": "stdout",
     "output_type": "stream",
     "text": [
      "Number of short action movies in the 1990s: 7\n"
     ]
    }
   ],
   "source": [
    "# Set up a Counter and Iterate Through the Data\n",
    "\n",
    "# Initialize a counter\n",
    "short_action_count = 0\n",
    "\n",
    "# Iterate through the DataFrame and count movies with duration less than 90\n",
    "for duration in action_movies_90s['duration']:\n",
    "    if duration < 90:\n",
    "        short_action_count += 1\n",
    "\n",
    "# Display the count of short action movies\n",
    "print(f\"Number of short action movies in the 1990s: {short_action_count}\")"
   ]
  }
 ],
 "metadata": {
  "kernelspec": {
   "display_name": "Python 3",
   "language": "python",
   "name": "python3"
  },
  "language_info": {
   "codemirror_mode": {
    "name": "ipython",
    "version": 3
   },
   "file_extension": ".py",
   "mimetype": "text/x-python",
   "name": "python",
   "nbconvert_exporter": "python",
   "pygments_lexer": "ipython3",
   "version": "3.12.7"
  }
 },
 "nbformat": 4,
 "nbformat_minor": 2
}
